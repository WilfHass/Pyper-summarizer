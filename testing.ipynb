{
 "cells": [
  {
   "cell_type": "code",
   "execution_count": 18,
   "metadata": {},
   "outputs": [
    {
     "name": "stdout",
     "output_type": "stream",
     "text": [
      "A quantum code is usually referred to using three parameters: the number of\n",
      "physical qubits n, the dimension of the codespace K, and the distance of\n",
      "the code d. But these three parameters are not the only invariants of a\n",
      "quantum code under code equivalence - there is also a not-so-secret fourth\n",
      "parameter G, the transversal group, which is of fundamental importance for\n",
      "fault tolerance.\n",
      "  It was shown in a recent paper of Omanakuttan and Gross that in certain cases\n",
      "the Dicke state mapping from spin codes to multiqubit codes preserves distance\n",
      "and logical gates. We prove this result in general, and use it to construct\n",
      "three families of non-additive codes that strictly outperform stabilizer codes\n",
      "with regards to the new parameter G. Our first family implements\n",
      "transversal gates which are impossible for any stabilizer code. Our second\n",
      "family has smaller length n than any stabilizer code with the same distance\n",
      "d and transversal group G. And our third family implements the famous  T\n",
      " gate transversally for larger distance  d  and shorter length  n  than\n",
      "any known stabilizer codes.\n"
     ]
    }
   ],
   "source": [
    "import arxiv\n",
    "import re\n",
    "\n",
    "arxiv_query = \"quantum\"\n",
    "\n",
    "search = arxiv.Search(\n",
    "    query = arxiv_query,\n",
    "    max_results = 10,\n",
    "    sort_by = arxiv.SortCriterion.SubmittedDate\n",
    "    )\n",
    "\n",
    "results = arxiv.Client().results(search)\n",
    "\n",
    "result_abstract = next(results).summary\n",
    "\n",
    "result_abstract_stripped = re.sub(r\"[$\\\\\\\"\\`]\", \"\", result_abstract)\n",
    "    \n",
    "print(result_abstract_stripped)"
   ]
  },
  {
   "cell_type": "code",
   "execution_count": null,
   "metadata": {},
   "outputs": [],
   "source": []
  }
 ],
 "metadata": {
  "kernelspec": {
   "display_name": "papersum",
   "language": "python",
   "name": "python3"
  },
  "language_info": {
   "codemirror_mode": {
    "name": "ipython",
    "version": 3
   },
   "file_extension": ".py",
   "mimetype": "text/x-python",
   "name": "python",
   "nbconvert_exporter": "python",
   "pygments_lexer": "ipython3",
   "version": "3.12.0"
  }
 },
 "nbformat": 4,
 "nbformat_minor": 2
}
