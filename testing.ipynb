{
 "cells": [
  {
   "cell_type": "code",
   "execution_count": 14,
   "metadata": {},
   "outputs": [],
   "source": [
    "import arxiv\n",
    "from utils.arxiv_handler import fetch_arxiv_abstracts\n",
    "from utils.nlp_processor import process_abstracts"
   ]
  },
  {
   "cell_type": "code",
   "execution_count": 11,
   "metadata": {},
   "outputs": [],
   "source": [
    "query = \"quantum\"\n",
    "model_name = \"GPT-3\" \n",
    "model_name = \"Bart-Scientific\"\n",
    "max_results = 5\n",
    "\n",
    "with open(\"../../openai_key.txt\") as f:\n",
    "    api_key = f.readline().strip()"
   ]
  },
  {
   "cell_type": "code",
   "execution_count": 15,
   "metadata": {},
   "outputs": [],
   "source": [
    "search = arxiv.Search(\n",
    "        query = query,\n",
    "        max_results = max_results,\n",
    "        sort_by = arxiv.SortCriterion.SubmittedDate\n",
    "        )\n",
    "    \n",
    "results = arxiv.Client().results(search)\n"
   ]
  },
  {
   "cell_type": "code",
   "execution_count": 18,
   "metadata": {},
   "outputs": [
    {
     "data": {
      "text/plain": [
       "[arxiv.Result.Link('http://arxiv.org/abs/2310.19237v1', title=None, rel='alternate', content_type=None),\n",
       " arxiv.Result.Link('http://arxiv.org/pdf/2310.19237v1', title='pdf', rel='related', content_type=None)]"
      ]
     },
     "execution_count": 18,
     "metadata": {},
     "output_type": "execute_result"
    }
   ],
   "source": [
    "next(results).links"
   ]
  },
  {
   "cell_type": "code",
   "execution_count": 12,
   "metadata": {},
   "outputs": [],
   "source": [
    "arxiv_abstracts = fetch_arxiv_abstracts(query=query, max_results=max_results)\n",
    "processed_abstracts = process_abstracts(arxiv_abstracts, model_name, api_key=api_key)"
   ]
  },
  {
   "cell_type": "code",
   "execution_count": 4,
   "metadata": {},
   "outputs": [
    {
     "data": {
      "text/plain": [
       "{'Electromagnetic current operators for phenomenological relativistic models': \"Phenomenological Poincar'e invariant quantum mechanical models can provide efficient description of the dynamics of strongly interacting particles that is consistent with spectral and scattering observables. Current operators are constructed from a model Hamiltonian by replacing momentum operators in the Weyl representation by gauge covariant covariantderivatives.\",\n",
       " 'Tunable Atomically Wide Electrostatic Barriers Embedded in a Graphene WSe2 Heterostructure': 'Inducing and controlling electrostatic barriers in two-dimensional (2D)quantum materials has shown extraordinary promise to enable control of charge carriers. Because of their atomically thin nature, the 2Dmaterials have a congenital advantage to construct the thinnest possible p-njunctions1,3,7,9,10. To realize the ultimate functional unit for futurenanoscale devices, creating atomically wide electro static barriers embedded in 2D materials is desired and remains an extremely challenge.',\n",
       " 'Cavity magnomechanics: from classical to quantum': ' Hybrid quantum systems based on magnons in magnetic materials have made significant progress in the past decade. They are built based on the couplings of magnons with microwave photons, optical photons, vibration phonons, and superconducting qubits. The interactions among magnons,microwave cavity photons, and vibration phonon form the system of cavity cavitymagnomechanics.',\n",
       " 'Efficient vacuum state preparation for quantum simulation of strongly interacting local quantum field theories': 'An efficient approach for preparing ground states in the context of strongly interacting local quantum field theories on quantum computers is presented. The approach produces the vacuum state in a timeproportional to the square-root of the volume. Errors due to practical limitations are controlled and do not exhibitular growth along the path.',\n",
       " \"Overtones' outburst of asymptotically AdS black holes\": 'Small deformation of the asymptotically flat black hole geometry in some region near its horizon strongly affects the first and higher overtones which deviate at an increasing rate from their non-deformed limits. qualitatively new, non-perturbative modes appear as a result of such small deformations. Small near-horizon deformations may originate from quantum corrections or attempts to describe the regime of intermediate coupling via higher curvature terms.'}"
      ]
     },
     "execution_count": 4,
     "metadata": {},
     "output_type": "execute_result"
    }
   ],
   "source": [
    "processed_abstracts"
   ]
  },
  {
   "cell_type": "code",
   "execution_count": null,
   "metadata": {},
   "outputs": [],
   "source": []
  }
 ],
 "metadata": {
  "kernelspec": {
   "display_name": "papersum",
   "language": "python",
   "name": "python3"
  },
  "language_info": {
   "codemirror_mode": {
    "name": "ipython",
    "version": 3
   },
   "file_extension": ".py",
   "mimetype": "text/x-python",
   "name": "python",
   "nbconvert_exporter": "python",
   "pygments_lexer": "ipython3",
   "version": "3.10.13"
  }
 },
 "nbformat": 4,
 "nbformat_minor": 2
}
